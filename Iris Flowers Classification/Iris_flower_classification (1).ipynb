{
 "cells": [
  {
   "cell_type": "code",
   "execution_count": null,
   "id": "1b39e691-eece-4dd9-958c-7b81b20ce02c",
   "metadata": {},
   "outputs": [],
   "source": [
    "# Import necessary libraries\n",
    "import pandas as pd\n",
    "import matplotlib.pyplot as plt\n",
    "import seaborn as sns\n",
    "from sklearn.model_selection import train_test_split\n",
    "from sklearn.preprocessing import StandardScaler\n",
    "from sklearn.ensemble import RandomForestClassifier\n",
    "from sklearn.metrics import accuracy_score, classification_report, confusion_matrix\n"
   ]
  },
  {
   "cell_type": "code",
   "execution_count": null,
   "id": "18fbabda-d6aa-4694-9809-2f8ff9827b7a",
   "metadata": {},
   "outputs": [],
   "source": [
    "# Load the Iris dataset from a CSV file\n",
    "data = pd.read_csv('IRIS.csv')"
   ]
  },
  {
   "cell_type": "code",
   "execution_count": null,
   "id": "4cf83042-256a-4737-9d93-00345599c078",
   "metadata": {},
   "outputs": [],
   "source": [
    "# Create scatter plots for different pairs of features\n",
    "sns.set(style=\"ticks\")\n",
    "pairplot = sns.pairplot(data, hue=\"species\", markers=[\"o\", \"s\", \"D\"])"
   ]
  },
  {
   "cell_type": "code",
   "execution_count": null,
   "id": "7f123242-4b34-4513-8c93-1aa6c9ffee96",
   "metadata": {},
   "outputs": [],
   "source": [
    "# Manually set legend labels\n",
    "pairplot._legend.set_title(\"Species\")\n",
    "pairplot._legend.texts = [\"Setosa\", \"Versicolor\", \"Virginica\"]"
   ]
  },
  {
   "cell_type": "code",
   "execution_count": null,
   "id": "526b3a78-9b1b-4d5c-9d05-8e0341701f6a",
   "metadata": {},
   "outputs": [],
   "source": [
    "\n",
    "# Show the plot\n",
    "plt.show()"
   ]
  },
  {
   "cell_type": "code",
   "execution_count": null,
   "id": "308660d1-765f-45ff-86dc-781cf922ea9a",
   "metadata": {},
   "outputs": [],
   "source": [
    "# Split the data into features (X) and the target variable (y)\n",
    "X = data.iloc[:, :-1]  # Features\n",
    "y = data.iloc[:, -1]   # Target variable"
   ]
  },
  {
   "cell_type": "code",
   "execution_count": null,
   "id": "e6e89a38-3267-46b2-982e-0fdab2db7d99",
   "metadata": {},
   "outputs": [],
   "source": [
    "# Split the dataset into a training set and a testing set\n",
    "X_train, X_test, y_train, y_test = train_test_split(X, y, test_size=0.2, random_state=42)\n"
   ]
  },
  {
   "cell_type": "code",
   "execution_count": null,
   "id": "2c176495-1948-4860-b916-2ee9b64d0afb",
   "metadata": {},
   "outputs": [],
   "source": [
    "# Standardize the features (optional, but often improves model performance)\n",
    "scaler = StandardScaler()\n",
    "X_train = scaler.fit_transform(X_train)\n",
    "X_test = scaler.transform(X_test)"
   ]
  },
  {
   "cell_type": "code",
   "execution_count": null,
   "id": "16bd4df9-d33f-4162-81c0-89e8f33e4f42",
   "metadata": {},
   "outputs": [],
   "source": [
    "# Create a RandomForestClassifier (you can choose other classifiers as well)\n",
    "clf = RandomForestClassifier(n_estimators=100, random_state=42)\n"
   ]
  },
  {
   "cell_type": "code",
   "execution_count": null,
   "id": "e3f30046-60fe-4f44-b594-128c3b20b793",
   "metadata": {},
   "outputs": [],
   "source": [
    "# Train the classifier on the training data\n",
    "clf.fit(X_train, y_train)\n"
   ]
  },
  {
   "cell_type": "code",
   "execution_count": null,
   "id": "6ddd289b-cfef-4d63-a082-5a3b09adef6f",
   "metadata": {},
   "outputs": [],
   "source": [
    "# Make predictions on the test data\n",
    "y_pred = clf.predict(X_test)"
   ]
  },
  {
   "cell_type": "code",
   "execution_count": null,
   "id": "afd8f484-8b77-4eb9-a083-238536ca59c7",
   "metadata": {},
   "outputs": [],
   "source": [
    "# Evaluate the model\n",
    "accuracy = accuracy_score(y_test, y_pred)\n",
    "confusion = confusion_matrix(y_test, y_pred)\n",
    "classification_rep = classification_report(y_test, y_pred)"
   ]
  },
  {
   "cell_type": "code",
   "execution_count": null,
   "id": "15867bf9-c111-43bc-88aa-b0f75e16fb47",
   "metadata": {},
   "outputs": [],
   "source": [
    "# Print the results\n",
    "print(f'Accuracy: {accuracy}')\n",
    "print('Confusion Matrix:')\n",
    "print(confusion)\n",
    "print('Classification Report:')\n",
    "print(classification_rep)"
   ]
  }
 ],
 "metadata": {
  "kernelspec": {
   "display_name": "Python 3 (ipykernel)",
   "language": "python",
   "name": "python3"
  },
  "language_info": {
   "codemirror_mode": {
    "name": "ipython",
    "version": 3
   },
   "file_extension": ".py",
   "mimetype": "text/x-python",
   "name": "python",
   "nbconvert_exporter": "python",
   "pygments_lexer": "ipython3",
   "version": "3.12.0"
  }
 },
 "nbformat": 4,
 "nbformat_minor": 5
}
